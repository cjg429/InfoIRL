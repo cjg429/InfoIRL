{
 "cells": [
  {
   "cell_type": "code",
   "execution_count": 1,
   "metadata": {},
   "outputs": [],
   "source": [
    "import gym\n",
    "import gym_IRL\n",
    "import random\n",
    "import numpy as np\n",
    "import tensorflow as tf\n",
    "import time\n",
    "\n",
    "from collections import deque\n",
    "from collections import namedtuple\n",
    "from matplotlib import pyplot as plt\n",
    "\n",
    "seed = 0\n",
    "np.random.seed(seed)\n",
    "random.seed(seed)"
   ]
  },
  {
   "cell_type": "code",
   "execution_count": 2,
   "metadata": {},
   "outputs": [
    {
     "name": "stderr",
     "output_type": "stream",
     "text": [
      "[2018-12-06 13:30:20,486] Making new env: IRL-v0\n"
     ]
    }
   ],
   "source": [
    "env = gym.make('IRL-v0')\n",
    "env.seed(seed)\n",
    "policy_x = 0\n",
    "policy_y = 1\n",
    "P = np.zeros((11, 11, 2))\n",
    "for s in range(1, 10):\n",
    "    P[s, s - 1, 0] = 1\n",
    "    P[s, s + 1, 1] = 1\n",
    "P[0, 0, 0] = 1\n",
    "P[0, 1, 1] = 1\n",
    "P[10, 9, 0] = 1\n",
    "P[10, 10, 1] = 1\n",
    "\n",
    "Step = namedtuple('Step','cur_state action next_state reward done')\n",
    "trajs = []"
   ]
  },
  {
   "cell_type": "code",
   "execution_count": 3,
   "metadata": {},
   "outputs": [],
   "source": [
    "for i in range(100):\n",
    "    obs = env.reset()\n",
    "    done = False\n",
    "    total_reward = 0\n",
    "    total_loss = 0\n",
    "    episode = []\n",
    "    for t in range(10):\n",
    "        action = policy_x\n",
    "        next_obs, reward, done, info = env.step(action)\n",
    "        episode.append(Step(cur_state=obs, action=action, next_state=next_obs, reward=reward, done=done)) \n",
    "        obs = next_obs\n",
    "        if done:\n",
    "            break\n",
    "    trajs.append(episode)"
   ]
  },
  {
   "cell_type": "code",
   "execution_count": 4,
   "metadata": {},
   "outputs": [
    {
     "name": "stdout",
     "output_type": "stream",
     "text": [
      "[[ 0.03567574 -0.02003542]\n",
      " [ 0.03564215 -0.01992783]\n",
      " [ 0.03571347 -0.01990486]\n",
      " [ 0.03560327 -0.01989697]\n",
      " [ 0.03565566 -0.01993496]\n",
      " [ 0.03561314 -0.01993201]\n",
      " [ 0.03565137 -0.01988965]\n",
      " [ 0.0356483  -0.01989536]\n",
      " [ 0.03562684 -0.01988993]\n",
      " [ 0.03569864 -0.01994519]\n",
      " [ 0.03566994 -0.02003338]]\n"
     ]
    }
   ],
   "source": [
    "from deep_maxent import MENTAgent\n",
    "Agent = MENTAgent(11, 2, P)\n",
    "Agent.train_model(trajs, 10)"
   ]
  },
  {
   "cell_type": "code",
   "execution_count": null,
   "metadata": {},
   "outputs": [],
   "source": [
    "for i in range(10):\n",
    "    Agent.train_model(trajs, 10)"
   ]
  }
 ],
 "metadata": {
  "kernelspec": {
   "display_name": "Python 2",
   "language": "python",
   "name": "python2"
  },
  "language_info": {
   "codemirror_mode": {
    "name": "ipython",
    "version": 2
   },
   "file_extension": ".py",
   "mimetype": "text/x-python",
   "name": "python",
   "nbconvert_exporter": "python",
   "pygments_lexer": "ipython2",
   "version": "2.7.12"
  }
 },
 "nbformat": 4,
 "nbformat_minor": 2
}
