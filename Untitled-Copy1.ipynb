{
 "cells": [
  {
   "cell_type": "code",
   "execution_count": 1,
   "metadata": {},
   "outputs": [],
   "source": [
    "import gym\n",
    "import gym_IRL\n",
    "import random\n",
    "import numpy as np\n",
    "import tensorflow as tf\n",
    "import time\n",
    "\n",
    "from collections import deque\n",
    "from collections import namedtuple\n",
    "from matplotlib import pyplot as plt\n",
    "\n",
    "seed = 0\n",
    "np.random.seed(seed)\n",
    "random.seed(seed)"
   ]
  },
  {
   "cell_type": "code",
   "execution_count": 2,
   "metadata": {},
   "outputs": [
    {
     "name": "stderr",
     "output_type": "stream",
     "text": [
      "[2018-12-06 17:52:37,660] Making new env: IRL-v0\n"
     ]
    }
   ],
   "source": [
    "env = gym.make('IRL-v0')\n",
    "env.seed(seed)\n",
    "policy_x = 0\n",
    "policy_y = 1\n",
    "P = np.zeros((11, 11, 2))\n",
    "for s in range(1, 10):\n",
    "    P[s, s - 1, 0] = 1\n",
    "    P[s, s + 1, 1] = 1\n",
    "P[0, 0, 0] = 1\n",
    "P[0, 1, 1] = 1\n",
    "P[10, 9, 0] = 1\n",
    "P[10, 10, 1] = 1\n",
    "\n",
    "Step = namedtuple('Step','cur_state action next_state reward latent done')\n",
    "trajs = []"
   ]
  },
  {
   "cell_type": "code",
   "execution_count": 3,
   "metadata": {},
   "outputs": [],
   "source": [
    "for i in range(1000):\n",
    "    obs = env.reset()\n",
    "    done = False\n",
    "    total_reward = 0\n",
    "    total_loss = 0\n",
    "    episode = []\n",
    "    latent = random.randint(0, 1)\n",
    "    for t in range(15):\n",
    "        action = latent\n",
    "        next_obs, reward, done, info = env.step(action)\n",
    "        episode.append(Step(cur_state=obs, action=action, next_state=next_obs, \n",
    "                            reward=reward, latent=latent, done=done)) \n",
    "        obs = next_obs\n",
    "        if done:\n",
    "            break\n",
    "    trajs.append(episode)"
   ]
  },
  {
   "cell_type": "code",
   "execution_count": null,
   "metadata": {},
   "outputs": [
    {
     "name": "stdout",
     "output_type": "stream",
     "text": [
      "[[ 0.01549288  0.0138886 ]\n",
      " [ 0.0154588   0.01399641]\n",
      " [ 0.01553007  0.01401954]\n",
      " [ 0.01542032  0.01402723]\n",
      " [ 0.01547244  0.01398985]\n",
      " [ 0.01543005  0.01399265]\n",
      " [ 0.01546837  0.01403491]\n",
      " [ 0.01546533  0.0140293 ]\n",
      " [ 0.01544364  0.01403471]\n",
      " [ 0.01551541  0.01397945]\n",
      " [ 0.01548696  0.01389078]]\n",
      "[1 1 1 1 1 1 1 1 1 0 0]\n"
     ]
    }
   ],
   "source": [
    "from deep_maxent_latent import MENTAgent\n",
    "Agent = MENTAgent(11, 2, P)\n",
    "Agent.train_model(trajs, 10)"
   ]
  },
  {
   "cell_type": "code",
   "execution_count": null,
   "metadata": {},
   "outputs": [
    {
     "name": "stdout",
     "output_type": "stream",
     "text": [
      "[[ 0.10787299  0.0973791 ]\n",
      " [ 0.10787142  0.09738437]\n",
      " [ 0.10787498  0.09738557]\n",
      " [ 0.10786957  0.09738596]\n",
      " [ 0.10787219  0.09738421]\n",
      " [ 0.10787003  0.0973843 ]\n",
      " [ 0.10787193  0.09738643]\n",
      " [ 0.10787178  0.0973862 ]\n",
      " [ 0.10787069  0.09738643]\n",
      " [ 0.10787419  0.09738377]\n",
      " [ 0.10787273  0.09737924]]\n",
      "[1 0 0 0 0 0 0 0 0 0 0]\n",
      "[[ 0.14160858  0.12781425]\n",
      " [ 0.14160851  0.12781452]\n",
      " [ 0.1416087   0.12781459]\n",
      " [ 0.14160842  0.12781459]\n",
      " [ 0.14160855  0.12781452]\n",
      " [ 0.14160845  0.12781452]\n",
      " [ 0.14160854  0.12781462]\n",
      " [ 0.14160854  0.12781462]\n",
      " [ 0.14160848  0.12781462]\n",
      " [ 0.14160866  0.1278145 ]\n",
      " [ 0.14160857  0.12781426]]\n",
      "[1 0 0 0 0 0 0 0 0 0 0]\n",
      "[[ 0.15396161  0.13895865]\n",
      " [ 0.15396161  0.13895866]\n",
      " [ 0.15396163  0.13895866]\n",
      " [ 0.15396161  0.13895866]\n",
      " [ 0.15396161  0.13895866]\n",
      " [ 0.15396161  0.13895866]\n",
      " [ 0.15396161  0.13895866]\n",
      " [ 0.15396161  0.13895866]\n",
      " [ 0.15396161  0.13895866]\n",
      " [ 0.15396163  0.13895866]\n",
      " [ 0.15396161  0.13895865]]\n",
      "[1 0 0 0 0 0 0 0 0 0 0]\n"
     ]
    }
   ],
   "source": [
    "for i in range(10):\n",
    "    Agent.train_model(trajs, 100)"
   ]
  },
  {
   "cell_type": "code",
   "execution_count": null,
   "metadata": {},
   "outputs": [],
   "source": []
  }
 ],
 "metadata": {
  "kernelspec": {
   "display_name": "Python 2",
   "language": "python",
   "name": "python2"
  },
  "language_info": {
   "codemirror_mode": {
    "name": "ipython",
    "version": 2
   },
   "file_extension": ".py",
   "mimetype": "text/x-python",
   "name": "python",
   "nbconvert_exporter": "python",
   "pygments_lexer": "ipython2",
   "version": "2.7.12"
  }
 },
 "nbformat": 4,
 "nbformat_minor": 2
}
