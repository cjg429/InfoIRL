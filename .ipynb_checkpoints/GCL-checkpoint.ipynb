{
 "cells": [
  {
   "cell_type": "code",
   "execution_count": 1,
   "metadata": {},
   "outputs": [],
   "source": [
    "import gym\n",
    "import gym_IRL\n",
    "import random\n",
    "import numpy as np\n",
    "import tensorflow as tf\n",
    "import time\n",
    "\n",
    "from collections import deque\n",
    "from collections import namedtuple\n",
    "from matplotlib import pyplot as plt\n",
    "\n",
    "seed = 0\n",
    "np.random.seed(seed)\n",
    "random.seed(seed)\n",
    "\n",
    "env = gym.make('IRL-v0')\n",
    "env.seed(seed)\n",
    "policy_x = 0\n",
    "policy_y = 1\n",
    "P = np.zeros((11, 11, 2))\n",
    "for s in range(1, 10):\n",
    "    P[s, s - 1, 0] = 1\n",
    "    P[s, s + 1, 1] = 1\n",
    "P[0, 0, 0] = 1\n",
    "P[0, 1, 1] = 1\n",
    "P[10, 9, 0] = 1\n",
    "P[10, 10, 1] = 1\n",
    "\n",
    "Step = namedtuple('Step','cur_state action next_state reward done encode')\n",
    "trajs = []\n",
    "rand_trajs = []\n",
    "\n",
    "for i in range(1000):\n",
    "    obs = env.reset()\n",
    "    done = False\n",
    "    total_reward = 0\n",
    "    total_loss = 0\n",
    "    episode = []\n",
    "    #encode = 0\n",
    "    encode = random.randint(0, 1)\n",
    "    for t in range(15):\n",
    "        action = encode\n",
    "        next_obs, reward, done, info = env.step(action)\n",
    "        episode.append(Step(cur_state=obs, action=action, next_state=next_obs, \n",
    "                            reward=reward, done=done, encode=encode)) \n",
    "        obs = next_obs\n",
    "        if done:\n",
    "            break\n",
    "    trajs.append(episode)\n",
    "    \n",
    "for i in range(1000):\n",
    "    obs = env.reset()\n",
    "    done = False\n",
    "    total_reward = 0\n",
    "    total_loss = 0\n",
    "    episode = []\n",
    "    encode = 0.5\n",
    "    for t in range(15):\n",
    "        action = random.randint(0, 1)\n",
    "        next_obs, reward, done, info = env.step(action)\n",
    "        episode.append(Step(cur_state=obs, action=action, next_state=next_obs, \n",
    "                            reward=reward, done=done, encode=encode)) \n",
    "        obs = next_obs\n",
    "        if done:\n",
    "            break\n",
    "    rand_trajs.append(episode)    "
   ]
  },
  {
   "cell_type": "code",
   "execution_count": 2,
   "metadata": {},
   "outputs": [],
   "source": [
    "from guided_cost_learning_latent import GCLAgent\n",
    "Agent = GCLAgent(11, 2)\n",
    "Agent.add_experience(trajs, rand_trajs)"
   ]
  },
  {
   "cell_type": "code",
   "execution_count": 3,
   "metadata": {
    "scrolled": true
   },
   "outputs": [
    {
     "name": "stdout",
     "output_type": "stream",
     "text": [
      "[[-70.45889  -70.582184]\n",
      " [-71.00406  -71.12855 ]\n",
      " [-71.00755  -71.13205 ]\n",
      " [-71.00727  -71.13176 ]\n",
      " [-71.00647  -71.13095 ]\n",
      " [-71.00567  -71.13014 ]\n",
      " [-71.00477  -71.12925 ]\n",
      " [-71.00302  -71.12751 ]\n",
      " [-71.000854 -71.12533 ]\n",
      " [-68.856636 -68.97658 ]\n",
      " [-70.37622  -70.49936 ]] [[-70.45889  -70.582184]\n",
      " [-71.00406  -71.12855 ]\n",
      " [-71.00755  -71.13205 ]\n",
      " [-71.00727  -71.13176 ]\n",
      " [-71.00647  -71.13095 ]\n",
      " [-71.00567  -71.13014 ]\n",
      " [-71.00477  -71.12925 ]\n",
      " [-71.00302  -71.12751 ]\n",
      " [-71.000854 -71.12533 ]\n",
      " [-68.856636 -68.97658 ]\n",
      " [-70.37622  -70.49936 ]]\n"
     ]
    }
   ],
   "source": [
    "for i in range(1000):\n",
    "    reward_sum, all_rewards, all_rewards2 = Agent.train_model()\n",
    "print(all_rewards)"
   ]
  },
  {
   "cell_type": "code",
   "execution_count": null,
   "metadata": {},
   "outputs": [],
   "source": []
  }
 ],
 "metadata": {
  "kernelspec": {
   "display_name": "Python 3",
   "language": "python",
   "name": "python3"
  },
  "language_info": {
   "codemirror_mode": {
    "name": "ipython",
    "version": 3
   },
   "file_extension": ".py",
   "mimetype": "text/x-python",
   "name": "python",
   "nbconvert_exporter": "python",
   "pygments_lexer": "ipython3",
   "version": "3.5.2"
  }
 },
 "nbformat": 4,
 "nbformat_minor": 2
}
