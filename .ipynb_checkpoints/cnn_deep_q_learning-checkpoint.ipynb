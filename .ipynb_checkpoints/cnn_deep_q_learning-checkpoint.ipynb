{
 "cells": [
  {
   "cell_type": "code",
   "execution_count": 1,
   "metadata": {},
   "outputs": [],
   "source": [
    "import gym\n",
    "import gym_coverage\n",
    "import random\n",
    "import numpy as np\n",
    "import tensorflow as tf\n",
    "\n",
    "from CNNDQNAgent import CNNDQNAgent\n",
    "from collections import deque\n",
    "\n",
    "from matplotlib import pyplot as plt\n",
    "\n",
    "seed = 0\n",
    "np.random.seed(seed)\n",
    "random.seed(seed)"
   ]
  },
  {
   "cell_type": "code",
   "execution_count": null,
   "metadata": {},
   "outputs": [
    {
     "name": "stdout",
     "output_type": "stream",
     "text": [
      "\u001b[33mWARN: gym.spaces.Box autodetected dtype as <type 'numpy.float32'>. Please provide explicit dtype.\u001b[0m\n"
     ]
    }
   ],
   "source": [
    "env = gym.make('Coverage-v1')\n",
    "env.seed(seed)\n",
    "N_F_pos = env.observation_space.spaces[0].n\n",
    "N_F_map = env.observation_space.spaces[1].shape[0]\n",
    "N_F = N_F_pos + N_F_map\n",
    "N_A = env.action_space.n\n",
    "agent = CNNDQNAgent(N_F_pos, N_F_map, N_A, epsilon_decay= 0.99999, memory_mode='NORMAL', target_mode='DQN', batch_size=64)\n",
    "#agent.restore_model(path=\"model/coverage_8_cnn_dqn_model.ckpt\")"
   ]
  },
  {
   "cell_type": "code",
   "execution_count": null,
   "metadata": {},
   "outputs": [
    {
     "name": "stdout",
     "output_type": "stream",
     "text": [
      "0 loss : nan, return : -281.000, eps : 1.000\n",
      "1000 loss : nan, return : -229.700, eps : 0.639\n",
      "2000 loss : 2659.705, return : -232.200, eps : 0.427\n"
     ]
    }
   ],
   "source": [
    "import time\n",
    "max_t = 80\n",
    "avg_return_list = deque(maxlen=10)\n",
    "avg_loss_list = deque(maxlen=10)\n",
    "for i in range(500000):\n",
    "    obs = env.reset()\n",
    "    obs = np.concatenate((np.eye(64)[obs[0]], obs[1].flatten()))\n",
    "    done = False\n",
    "    total_reward = 0\n",
    "    total_loss = 0\n",
    "    #env.render()\n",
    "    #time.sleep(0.5)\n",
    "    for t in range(max_t):\n",
    "        action = agent.get_action(np.reshape(obs, (1, -1)))\n",
    "        next_obs, reward, done, info = env.step(action)\n",
    "        next_obs = np.concatenate((np.eye(64)[next_obs[0]], next_obs[1].flatten()))\n",
    "        agent.add_experience(obs, action, reward, next_obs, done)\n",
    "        \n",
    "        loss = agent.train_model()\n",
    "        agent.update_memory(t, max_t)\n",
    "        agent.update_policy()\n",
    "        #env.render()\n",
    "        #time.sleep(0.5)\n",
    "        obs = next_obs\n",
    "        total_reward += reward\n",
    "        total_loss += loss\n",
    "        if done:\n",
    "            break\n",
    "            \n",
    "    agent.update_target()\n",
    "    avg_return_list.append(total_reward)\n",
    "    avg_loss_list.append(total_loss)\n",
    "    \n",
    "    if (i%1000)==0:\n",
    "        print('{} loss : {:.3f}, return : {:.3f}, eps : {:.3f}'.format(i, np.mean(avg_loss_list), np.mean(avg_return_list), agent.epsilon))\n",
    "#agent.save_model(path=\"model/coverage_6_model_new.ckpt\")\n",
    "#agent.restore_model(path=\"model/coverage_6_model.ckpt\")"
   ]
  },
  {
   "cell_type": "code",
   "execution_count": null,
   "metadata": {},
   "outputs": [],
   "source": [
    "#agent.save_model(path=\"model/coverage_8_cnn_dqn_model.ckpt\")\n",
    "max_t = 50\n",
    "for i in range(100):\n",
    "    obs = env.reset()\n",
    "    obs = np.concatenate((np.eye(64)[obs[0]], obs[1].flatten()))\n",
    "    done = False\n",
    "    total_reward = 0\n",
    "    env.render()\n",
    "    time.sleep(0.25)\n",
    "    for t in range(max_t):\n",
    "        action = agent.get_action(np.reshape(obs, (1, -1)))\n",
    "        next_obs, reward, done, info = env.step(action)\n",
    "        \n",
    "        next_obs = np.concatenate((np.eye(64)[next_obs[0]], next_obs[1].flatten()))\n",
    "        \n",
    "        obs = next_obs\n",
    "        total_reward += reward\n",
    "        env.render()\n",
    "        time.sleep(0.25)\n",
    "        if done:\n",
    "            break\n",
    "    print(total_reward)        "
   ]
  },
  {
   "cell_type": "code",
   "execution_count": null,
   "metadata": {},
   "outputs": [],
   "source": []
  }
 ],
 "metadata": {
  "kernelspec": {
   "display_name": "Python 2",
   "language": "python",
   "name": "python2"
  },
  "language_info": {
   "codemirror_mode": {
    "name": "ipython",
    "version": 2
   },
   "file_extension": ".py",
   "mimetype": "text/x-python",
   "name": "python",
   "nbconvert_exporter": "python",
   "pygments_lexer": "ipython2",
   "version": "2.7.12"
  }
 },
 "nbformat": 4,
 "nbformat_minor": 2
}
