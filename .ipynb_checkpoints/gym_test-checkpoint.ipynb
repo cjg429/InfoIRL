{
 "cells": [
  {
   "cell_type": "code",
   "execution_count": 1,
   "metadata": {},
   "outputs": [],
   "source": [
    "import gym\n",
    "import gym_coverage\n",
    "import random\n",
    "import numpy as np\n",
    "import tensorflow as tf\n",
    "import time\n",
    "import math\n",
    "\n",
    "from collections import deque\n",
    "\n",
    "from matplotlib import pyplot as plt\n",
    "\n",
    "seed = 0\n",
    "np.random.seed(seed)\n",
    "random.seed(seed)"
   ]
  },
  {
   "cell_type": "code",
   "execution_count": null,
   "metadata": {},
   "outputs": [
    {
     "name": "stdout",
     "output_type": "stream",
     "text": [
      "\u001b[33mWARN: gym.spaces.Box autodetected dtype as <type 'numpy.float32'>. Please provide explicit dtype.\u001b[0m\n",
      "\u001b[33mWARN: gym.spaces.Box autodetected dtype as <type 'numpy.float32'>. Please provide explicit dtype.\u001b[0m\n"
     ]
    },
    {
     "data": {
      "text/plain": [
       "[0L]"
      ]
     },
     "execution_count": 2,
     "metadata": {},
     "output_type": "execute_result"
    }
   ],
   "source": [
    "env = gym.make('CoverageCar-v0')\n",
    "env.seed(seed)"
   ]
  },
  {
   "cell_type": "code",
   "execution_count": null,
   "metadata": {},
   "outputs": [
    {
     "name": "stdout",
     "output_type": "stream",
     "text": [
      "(7.755374812200385, 7.06363522352242, -0.4990634762961359)\n",
      "(8.49345693611404, 7.4677493121566565, 1.5009365237038639)\n",
      "(7.81884649419626, 7.9707146886281075, -2.7822487834757226)\n",
      "(7.642238372894113, 7.147985699371197, -0.7822487834757228)\n",
      "(8.463838636788738, 7.329772455329528, 1.217751216524277)\n",
      "(7.956634056638794, 8.001201477749985, -3.0654340906553097)\n",
      "(7.55717695576741, 7.260588594499228, -1.0654340906553099)\n",
      "(8.396847153645192, 7.205566989020492, 0.93456590934468986)\n",
      "(8.097452061337073, 7.991974006394692, 2.9345659093446894)\n",
      "(7.506966504542818, 7.392474026835934, -1.3486193978348968)\n",
      "(8.297818989824352, 7.105027049468642, 0.65138060216510296)\n",
      "(8.230083026767895, 7.9437673296402735, 2.6513806021651027)\n",
      "(7.495606754979199, 7.53313607845139, -1.6318047050144839)\n",
      "(8.174642672083266, 7.036161590619057, 0.36819529498551584)\n",
      "(8.343961646262473, 7.860421563720063, 2.3681952949855156)\n"
     ]
    }
   ],
   "source": [
    "for i in range(10):\n",
    "    obs = env.reset()\n",
    "    done = False\n",
    "    total_reward = 0\n",
    "    total_loss = 0\n",
    "    print(obs[0:3])\n",
    "    env.render()\n",
    "    time.sleep(2.0)\n",
    "    for t in range(100):\n",
    "        min_speed = 0.0\n",
    "        max_speed = 1.0\n",
    "        min_angle = -math.pi / 4\n",
    "        max_angle = math.pi / 4\n",
    "        #speed = random.uniform(min_speed, max_speed)\n",
    "        speed = 1.0\n",
    "        #angle = random.uniform(min_angle, max_angle)\n",
    "        angle = math.pi / 4 \n",
    "        action = np.array([speed, angle])\n",
    "        \n",
    "        next_obs, reward, done, info = env.step(action)\n",
    "        print(next_obs[0:3])\n",
    "        obs = next_obs\n",
    "        \n",
    "        env.render()\n",
    "        time.sleep(0.5)\n",
    "        if done:\n",
    "            break"
   ]
  },
  {
   "cell_type": "code",
   "execution_count": null,
   "metadata": {},
   "outputs": [],
   "source": []
  }
 ],
 "metadata": {
  "kernelspec": {
   "display_name": "Python 2",
   "language": "python",
   "name": "python2"
  },
  "language_info": {
   "codemirror_mode": {
    "name": "ipython",
    "version": 2
   },
   "file_extension": ".py",
   "mimetype": "text/x-python",
   "name": "python",
   "nbconvert_exporter": "python",
   "pygments_lexer": "ipython2",
   "version": "2.7.12"
  }
 },
 "nbformat": 4,
 "nbformat_minor": 2
}
