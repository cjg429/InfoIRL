{
 "cells": [
  {
   "cell_type": "code",
   "execution_count": null,
   "metadata": {},
   "outputs": [],
   "source": [
    "import numpy as np\n",
    "import tensorflow as tf\n",
    "import gym\n",
    "import gym_coverage\n",
    "import random\n",
    "import time\n",
    "\n",
    "np.random.seed(2)\n",
    "tf.set_random_seed(2)  # reproducible\n",
    "\n",
    "# Superparameters\n",
    "OUTPUT_GRAPH = False\n",
    "MAX_EPISODE = 50000\n",
    "DISPLAY_REWARD_THRESHOLD = -10  # renders environment if total episode reward is greater then this threshold\n",
    "MAX_EP_STEPS = 100 # maximum time step in one episode\n",
    "RENDER = False # rendering wastes time\n",
    "GAMMA = 0.9     # reward discount in TD error\n",
    "ALPHA = 3\n",
    "LR_A = 0.0001    # learning rate for actor\n",
    "LR_C = 0.0001    # learning rate for critic\n",
    "env = gym.make('Coverage-v0')\n",
    "\n",
    "state = env.reset()\n",
    "#np.eye(100)[state[0]]\n",
    "#state[1].flatten()\n",
    "state = np.concatenate((np.eye(100)[state[0]], state[1].flatten()))\n",
    "print(state.shape)\n",
    "for i in range(0, 100):   \n",
    "    env.render()\n",
    "    action = random.randint(0, 3)\n",
    "    next_state, reward, done, info = env.step(action)\n",
    "    time.sleep(0.5)"
   ]
  },
  {
   "cell_type": "raw",
   "metadata": {},
   "source": []
  }
 ],
 "metadata": {
  "kernelspec": {
   "display_name": "Python 2",
   "language": "python",
   "name": "python2"
  },
  "language_info": {
   "codemirror_mode": {
    "name": "ipython",
    "version": 2
   },
   "file_extension": ".py",
   "mimetype": "text/x-python",
   "name": "python",
   "nbconvert_exporter": "python",
   "pygments_lexer": "ipython2",
   "version": "2.7.12"
  }
 },
 "nbformat": 4,
 "nbformat_minor": 2
}
